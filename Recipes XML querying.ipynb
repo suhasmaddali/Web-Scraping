{
 "cells": [
  {
   "cell_type": "code",
   "execution_count": 1,
   "id": "d391d0b5",
   "metadata": {},
   "outputs": [],
   "source": [
    "from lxml import etree"
   ]
  },
  {
   "cell_type": "code",
   "execution_count": 2,
   "id": "a26b2319",
   "metadata": {},
   "outputs": [],
   "source": [
    "tree = etree.parse('recipes.xml')"
   ]
  },
  {
   "cell_type": "code",
   "execution_count": 41,
   "id": "c6a1d31d",
   "metadata": {},
   "outputs": [],
   "source": [
    "recipes = tree.xpath('/collection/recipe')\n",
    "values = []\n",
    "for recipe in recipes:\n",
    "    ingredient_values = []\n",
    "    title = recipe.find(\"title\").text\n",
    "    ingredients = recipe.findall(\"ingredient\")\n",
    "    for ingredient in ingredients:\n",
    "        ingredient_values.append(ingredient.attrib['name'])\n",
    "    nutrition_information = recipe.find(\"nutrition\")\n",
    "    calories = nutrition_information.attrib['calories']\n",
    "    values.append({\"Title\": title, \"Ingredients\": ingredient_values, \"Calories\": calories})    "
   ]
  },
  {
   "cell_type": "code",
   "execution_count": 42,
   "id": "315deda9",
   "metadata": {},
   "outputs": [
    {
     "data": {
      "text/plain": [
       "[{'Title': 'Beef Parmesan with Garlic Angel Hair Pasta',\n",
       "  'Ingredients': ['beef cube steak',\n",
       "   'onion, sliced into thin rings',\n",
       "   'green bell pepper, sliced in rings',\n",
       "   'Italian seasoned bread crumbs',\n",
       "   'grated Parmesan cheese',\n",
       "   'olive oil',\n",
       "   'spaghetti sauce',\n",
       "   'shredded mozzarella cheese',\n",
       "   'angel hair pasta',\n",
       "   'minced garlic',\n",
       "   'butter'],\n",
       "  'Calories': '1167'},\n",
       " {'Title': 'Ricotta Pie',\n",
       "  'Ingredients': ['filling', 'dough', 'milk'],\n",
       "  'Calories': '349'},\n",
       " {'Title': 'Linguine Pescadoro',\n",
       "  'Ingredients': ['linguini pasta', 'sauce'],\n",
       "  'Calories': '532'},\n",
       " {'Title': 'Zuppa Inglese',\n",
       "  'Ingredients': ['egg yolks',\n",
       "   'milk',\n",
       "   'Savoiardi biscuits',\n",
       "   'sugar',\n",
       "   'Alchermes liquor',\n",
       "   'lemon zest',\n",
       "   'flour',\n",
       "   'fresh whipping cream'],\n",
       "  'Calories': '612'},\n",
       " {'Title': 'Cailles en Sarcophages',\n",
       "  'Ingredients': ['pastry',\n",
       "   'filling',\n",
       "   'package phyllo dough',\n",
       "   'egg whites, lightly beaten'],\n",
       "  'Calories': '8892'}]"
      ]
     },
     "execution_count": 42,
     "metadata": {},
     "output_type": "execute_result"
    }
   ],
   "source": [
    "values"
   ]
  },
  {
   "cell_type": "code",
   "execution_count": 54,
   "id": "1484c7c8",
   "metadata": {},
   "outputs": [
    {
     "data": {
      "text/plain": [
       "['Beef Parmesan with Garlic Angel Hair Pasta']"
      ]
     },
     "execution_count": 54,
     "metadata": {},
     "output_type": "execute_result"
    }
   ],
   "source": [
    "[t.find('title').text for t in tree.xpath('/collection/recipe[ingredient[@name = \"olive oil\"]]')]"
   ]
  },
  {
   "cell_type": "code",
   "execution_count": 58,
   "id": "66493275",
   "metadata": {},
   "outputs": [
    {
     "data": {
      "text/plain": [
       "['Ricotta Pie']"
      ]
     },
     "execution_count": 58,
     "metadata": {},
     "output_type": "execute_result"
    }
   ],
   "source": [
    "[t.find('title').text for t in tree.xpath('/collection/recipe[nutrition[@calories <500]]')]"
   ]
  },
  {
   "cell_type": "code",
   "execution_count": 61,
   "id": "2695064f",
   "metadata": {},
   "outputs": [
    {
     "data": {
      "text/plain": [
       "[]"
      ]
     },
     "execution_count": 61,
     "metadata": {},
     "output_type": "execute_result"
    }
   ],
   "source": [
    "tree.xpath('/collection/recipe')"
   ]
  },
  {
   "cell_type": "code",
   "execution_count": 67,
   "id": "be729d01",
   "metadata": {},
   "outputs": [
    {
     "data": {
      "text/plain": [
       "['Beef Parmesan with Garlic Angel Hair Pasta', 'Ricotta Pie']"
      ]
     },
     "execution_count": 67,
     "metadata": {},
     "output_type": "execute_result"
    }
   ],
   "source": [
    "[t.find('title').text for t in tree.xpath('/collection/recipe[count(preparation/step) = 4]')]"
   ]
  },
  {
   "cell_type": "code",
   "execution_count": null,
   "id": "8a7e50f3",
   "metadata": {},
   "outputs": [],
   "source": []
  }
 ],
 "metadata": {
  "kernelspec": {
   "display_name": "Python 3",
   "language": "python",
   "name": "python3"
  },
  "language_info": {
   "codemirror_mode": {
    "name": "ipython",
    "version": 3
   },
   "file_extension": ".py",
   "mimetype": "text/x-python",
   "name": "python",
   "nbconvert_exporter": "python",
   "pygments_lexer": "ipython3",
   "version": "3.7.10"
  }
 },
 "nbformat": 4,
 "nbformat_minor": 5
}

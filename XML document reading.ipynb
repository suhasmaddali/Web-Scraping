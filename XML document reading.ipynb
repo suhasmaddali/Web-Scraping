{
 "cells": [
  {
   "cell_type": "code",
   "execution_count": 1,
   "id": "941f7232",
   "metadata": {},
   "outputs": [],
   "source": [
    "from xml.dom import minidom"
   ]
  },
  {
   "cell_type": "code",
   "execution_count": 50,
   "id": "20a72466",
   "metadata": {},
   "outputs": [
    {
     "name": "stdout",
     "output_type": "stream",
     "text": [
      "<DOM Element: instructor at 0x2046c2565e8>\n",
      "<DOM Element: instructor at 0x2046c256a48>\n",
      "<DOM Element: instructor at 0x2046c256e08>\n"
     ]
    }
   ],
   "source": [
    "doc = minidom.parse('university.xml')\n",
    "\n",
    "instructors = doc.getElementsByTagName('instructor')\n",
    "courseid = []\n",
    "for instructor in instructors:\n",
    "    print(instructor)\n",
    "    i_id = instructor.getAttribute('ID')\n",
    "    name = instructor.getElementsByTagName('name')[0].firstChild.data\n",
    "    salary = instructor.getElementsByTagName('salary')[0].firstChild.data\n",
    "    \n",
    "    teaches = instructor.getElementsByTagName('teaches')[0]\n",
    "    courses = teaches.getElementsByTagName('course')\n",
    "    \n",
    "    for course in courses:\n",
    "        courseid.append(course.getAttribute('course_id'))"
   ]
  },
  {
   "cell_type": "code",
   "execution_count": 51,
   "id": "654612f2",
   "metadata": {},
   "outputs": [
    {
     "data": {
      "text/plain": [
       "['CS-101', 'CS-315', 'CS-347', 'CS-190', 'CS-319', 'BIO-101', 'BIO-301']"
      ]
     },
     "execution_count": 51,
     "metadata": {},
     "output_type": "execute_result"
    }
   ],
   "source": [
    "courseid"
   ]
  },
  {
   "cell_type": "code",
   "execution_count": null,
   "id": "4b1b2a49",
   "metadata": {},
   "outputs": [],
   "source": []
  },
  {
   "cell_type": "code",
   "execution_count": null,
   "id": "6020e7ec",
   "metadata": {},
   "outputs": [],
   "source": []
  },
  {
   "cell_type": "code",
   "execution_count": null,
   "id": "d490e2da",
   "metadata": {},
   "outputs": [],
   "source": []
  },
  {
   "cell_type": "code",
   "execution_count": 52,
   "id": "9ae807c5",
   "metadata": {},
   "outputs": [],
   "source": [
    "import xml.etree.ElementTree as ET"
   ]
  },
  {
   "cell_type": "code",
   "execution_count": 60,
   "id": "385eae98",
   "metadata": {},
   "outputs": [],
   "source": [
    "tree = ET.parse('university.xml')\n",
    "root = tree.getroot()\n",
    "\n",
    "instructors = root.findall('instructor')\n",
    "for instructor in instructors:\n",
    "    i_id = instructor.attrib.get('ID')\n",
    "    name = instructor.findtext('name')\n",
    "    salary = instructor.findtext('salary')\n",
    "    \n",
    "    course_list = []\n",
    "    \n",
    "    courses = instructor.iter('course')\n",
    "    \n",
    "    for course in courses:\n",
    "        course_list.append(course.attrib.get('course_id'))\n",
    "    "
   ]
  },
  {
   "cell_type": "code",
   "execution_count": 61,
   "id": "d85016da",
   "metadata": {},
   "outputs": [
    {
     "data": {
      "text/plain": [
       "['BIO-101', 'BIO-301']"
      ]
     },
     "execution_count": 61,
     "metadata": {},
     "output_type": "execute_result"
    }
   ],
   "source": [
    "course_list"
   ]
  },
  {
   "cell_type": "code",
   "execution_count": 62,
   "id": "0314a211",
   "metadata": {},
   "outputs": [
    {
     "data": {
      "text/plain": [
       "<Element 'instructor' at 0x000002046C29F408>"
      ]
     },
     "execution_count": 62,
     "metadata": {},
     "output_type": "execute_result"
    }
   ],
   "source": [
    "instructor"
   ]
  },
  {
   "cell_type": "code",
   "execution_count": 63,
   "id": "d5dfbdf7",
   "metadata": {},
   "outputs": [
    {
     "data": {
      "text/plain": [
       "['BIO-101', 'BIO-301']"
      ]
     },
     "execution_count": 63,
     "metadata": {},
     "output_type": "execute_result"
    }
   ],
   "source": [
    "course_list"
   ]
  }
 ],
 "metadata": {
  "kernelspec": {
   "display_name": "Python 3",
   "language": "python",
   "name": "python3"
  },
  "language_info": {
   "codemirror_mode": {
    "name": "ipython",
    "version": 3
   },
   "file_extension": ".py",
   "mimetype": "text/x-python",
   "name": "python",
   "nbconvert_exporter": "python",
   "pygments_lexer": "ipython3",
   "version": "3.7.10"
  }
 },
 "nbformat": 4,
 "nbformat_minor": 5
}
